{
  "nbformat": 4,
  "nbformat_minor": 0,
  "metadata": {
    "colab": {
      "provenance": [],
      "authorship_tag": "ABX9TyNk3gocUg/rYuxfaa2viSnK",
      "include_colab_link": true
    },
    "kernelspec": {
      "name": "python3",
      "display_name": "Python 3"
    },
    "language_info": {
      "name": "python"
    }
  },
  "cells": [
    {
      "cell_type": "markdown",
      "metadata": {
        "id": "view-in-github",
        "colab_type": "text"
      },
      "source": [
        "<a href=\"https://colab.research.google.com/github/Caleb-Odinga/Student-Enrollment-Prediction/blob/main/Student_Enrollment_Prediction.ipynb\" target=\"_parent\"><img src=\"https://colab.research.google.com/assets/colab-badge.svg\" alt=\"Open In Colab\"/></a>"
      ]
    },
    {
      "cell_type": "code",
      "execution_count": 5,
      "metadata": {
        "colab": {
          "base_uri": "https://localhost:8080/"
        },
        "id": "nA8w1ftsadGh",
        "outputId": "ad42e8a5-1255-486e-e070-bbbeb589886e"
      },
      "outputs": [
        {
          "output_type": "stream",
          "name": "stdout",
          "text": [
            "Accuracy: 0.55\n",
            "              precision    recall  f1-score   support\n",
            "\n",
            "           0       0.29      0.11      0.15       151\n",
            "           1       0.58      0.84      0.69       418\n",
            "           2       0.56      0.39      0.46       316\n",
            "\n",
            "    accuracy                           0.55       885\n",
            "   macro avg       0.47      0.45      0.43       885\n",
            "weighted avg       0.52      0.55      0.51       885\n",
            "\n",
            "['Need Additional Support' 'Graduate' 'Enrolled']\n"
          ]
        }
      ],
      "source": [
        "# Import necessary libraries\n",
        "import pandas as pd\n",
        "from sklearn.model_selection import train_test_split\n",
        "from sklearn.ensemble import RandomForestClassifier\n",
        "from sklearn.metrics import accuracy_score, classification_report\n",
        "from sklearn.preprocessing import LabelEncoder\n",
        "\n",
        "# Load your data (replace 'your_data.csv' with the actual file name)\n",
        "data = pd.read_csv('dataset.csv')\n",
        "\n",
        "# Data preprocessing\n",
        "# You may need to handle missing values, encode categorical variables, and scale numerical features.\n",
        "# For simplicity, let's assume the data is clean and doesn't require extensive preprocessing.\n",
        "\n",
        "# Select features and target variable\n",
        "features = data[['Age at enrollment', 'Course', 'Gender']]  # Replace with actual feature names\n",
        "target = data['Target']  # Replace with the actual target variable\n",
        "\n",
        "# Encode the target variable if it's a string\n",
        "le = LabelEncoder()\n",
        "target_encoded = le.fit_transform(target)\n",
        "\n",
        "# Split the data into training and testing sets\n",
        "X_train, X_test, y_train, y_test = train_test_split(features, target_encoded, test_size=0.2, random_state=42)\n",
        "\n",
        "# Train a Random Forest Classifier (you can choose a different classifier based on your data)\n",
        "model = RandomForestClassifier(n_estimators=100, random_state=42)\n",
        "model.fit(X_train, y_train)\n",
        "\n",
        "# Make predictions on the test set\n",
        "y_pred = model.predict(X_test)\n",
        "\n",
        "# Decode the predictions if needed\n",
        "y_pred_decoded = le.inverse_transform(y_pred)\n",
        "\n",
        "# Evaluate the model\n",
        "accuracy = accuracy_score(y_test, y_pred)\n",
        "print(f'Accuracy: {accuracy:.2f}')\n",
        "\n",
        "# Display classification report for more detailed evaluation\n",
        "print(classification_report(y_test, y_pred),end='\\n')\n",
        "\n",
        "# Code to check if there are categorical values\n",
        "print(data['Target'].unique())\n"
      ]
    },
    {
      "cell_type": "code",
      "source": [],
      "metadata": {
        "id": "Afwb30yhasLV"
      },
      "execution_count": null,
      "outputs": []
    }
  ]
}